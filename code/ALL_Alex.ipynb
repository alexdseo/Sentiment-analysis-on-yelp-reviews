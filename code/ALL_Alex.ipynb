{
 "cells": [
  {
   "cell_type": "code",
   "execution_count": 1,
   "metadata": {
    "collapsed": true
   },
   "outputs": [],
   "source": [
    "import pandas as pd\n",
    "from sklearn import linear_model\n",
    "import numpy as np\n",
    "from sklearn.neural_network import MLPClassifier\n",
    "from sklearn.model_selection import train_test_split\n",
    "from sklearn.model_selection import cross_val_score\n",
    "from sklearn.model_selection import KFold\n",
    "from sklearn.model_selection import LeaveOneOut\n",
    "train = pd.read_csv(\"train_Madison.csv\")\n",
    "#train = train[:20]\n",
    "test = pd.read_csv(\"test_Madison.csv\")\n",
    "names = train[\"name\"]\n",
    "stars = train[\"star\"]    "
   ]
  },
  {
   "cell_type": "code",
   "execution_count": 2,
   "metadata": {},
   "outputs": [
    {
     "name": "stdout",
     "output_type": "stream",
     "text": [
      "1150\n",
      "1150\n"
     ]
    },
    {
     "data": {
      "text/html": [
       "<div>\n",
       "<style>\n",
       "    .dataframe thead tr:only-child th {\n",
       "        text-align: right;\n",
       "    }\n",
       "\n",
       "    .dataframe thead th {\n",
       "        text-align: left;\n",
       "    }\n",
       "\n",
       "    .dataframe tbody tr th {\n",
       "        vertical-align: top;\n",
       "    }\n",
       "</style>\n",
       "<table border=\"1\" class=\"dataframe\">\n",
       "  <thead>\n",
       "    <tr style=\"text-align: right;\">\n",
       "      <th></th>\n",
       "      <th>1847 At the Stamm House</th>\n",
       "      <th>1855 Saloon and Grill</th>\n",
       "      <th>4 Sisters Restaurant</th>\n",
       "      <th>5100 Bar &amp; Grill</th>\n",
       "      <th>5th Quarter Sports Bar &amp; Grill</th>\n",
       "      <th>7-Eleven</th>\n",
       "      <th>A La Brasa Mexican Grill</th>\n",
       "      <th>A&amp;W Restaurant</th>\n",
       "      <th>A-Mart Asian Grocery</th>\n",
       "      <th>A8 China</th>\n",
       "      <th>...</th>\n",
       "      <th>Yofresh Frozen Yogurt Cafe</th>\n",
       "      <th>Yola's Cafe</th>\n",
       "      <th>Yue-Wah Oriental Foods</th>\n",
       "      <th>Yumbutter</th>\n",
       "      <th>ZenZen Taste 四合院</th>\n",
       "      <th>Ziggy's BBQ Smokehouse &amp; Ice Cream Parlor</th>\n",
       "      <th>Zoe's Pizzeria</th>\n",
       "      <th>Zoup!</th>\n",
       "      <th>ZuZu Cafe &amp; Market</th>\n",
       "      <th>koi sushi</th>\n",
       "    </tr>\n",
       "  </thead>\n",
       "  <tbody>\n",
       "    <tr>\n",
       "      <th>0</th>\n",
       "      <td>1</td>\n",
       "      <td>0</td>\n",
       "      <td>0</td>\n",
       "      <td>0</td>\n",
       "      <td>0</td>\n",
       "      <td>0</td>\n",
       "      <td>0</td>\n",
       "      <td>0</td>\n",
       "      <td>0</td>\n",
       "      <td>0</td>\n",
       "      <td>...</td>\n",
       "      <td>0</td>\n",
       "      <td>0</td>\n",
       "      <td>0</td>\n",
       "      <td>0</td>\n",
       "      <td>0</td>\n",
       "      <td>0</td>\n",
       "      <td>0</td>\n",
       "      <td>0</td>\n",
       "      <td>0</td>\n",
       "      <td>0</td>\n",
       "    </tr>\n",
       "    <tr>\n",
       "      <th>1</th>\n",
       "      <td>1</td>\n",
       "      <td>0</td>\n",
       "      <td>0</td>\n",
       "      <td>0</td>\n",
       "      <td>0</td>\n",
       "      <td>0</td>\n",
       "      <td>0</td>\n",
       "      <td>0</td>\n",
       "      <td>0</td>\n",
       "      <td>0</td>\n",
       "      <td>...</td>\n",
       "      <td>0</td>\n",
       "      <td>0</td>\n",
       "      <td>0</td>\n",
       "      <td>0</td>\n",
       "      <td>0</td>\n",
       "      <td>0</td>\n",
       "      <td>0</td>\n",
       "      <td>0</td>\n",
       "      <td>0</td>\n",
       "      <td>0</td>\n",
       "    </tr>\n",
       "    <tr>\n",
       "      <th>2</th>\n",
       "      <td>1</td>\n",
       "      <td>0</td>\n",
       "      <td>0</td>\n",
       "      <td>0</td>\n",
       "      <td>0</td>\n",
       "      <td>0</td>\n",
       "      <td>0</td>\n",
       "      <td>0</td>\n",
       "      <td>0</td>\n",
       "      <td>0</td>\n",
       "      <td>...</td>\n",
       "      <td>0</td>\n",
       "      <td>0</td>\n",
       "      <td>0</td>\n",
       "      <td>0</td>\n",
       "      <td>0</td>\n",
       "      <td>0</td>\n",
       "      <td>0</td>\n",
       "      <td>0</td>\n",
       "      <td>0</td>\n",
       "      <td>0</td>\n",
       "    </tr>\n",
       "    <tr>\n",
       "      <th>3</th>\n",
       "      <td>1</td>\n",
       "      <td>0</td>\n",
       "      <td>0</td>\n",
       "      <td>0</td>\n",
       "      <td>0</td>\n",
       "      <td>0</td>\n",
       "      <td>0</td>\n",
       "      <td>0</td>\n",
       "      <td>0</td>\n",
       "      <td>0</td>\n",
       "      <td>...</td>\n",
       "      <td>0</td>\n",
       "      <td>0</td>\n",
       "      <td>0</td>\n",
       "      <td>0</td>\n",
       "      <td>0</td>\n",
       "      <td>0</td>\n",
       "      <td>0</td>\n",
       "      <td>0</td>\n",
       "      <td>0</td>\n",
       "      <td>0</td>\n",
       "    </tr>\n",
       "    <tr>\n",
       "      <th>4</th>\n",
       "      <td>1</td>\n",
       "      <td>0</td>\n",
       "      <td>0</td>\n",
       "      <td>0</td>\n",
       "      <td>0</td>\n",
       "      <td>0</td>\n",
       "      <td>0</td>\n",
       "      <td>0</td>\n",
       "      <td>0</td>\n",
       "      <td>0</td>\n",
       "      <td>...</td>\n",
       "      <td>0</td>\n",
       "      <td>0</td>\n",
       "      <td>0</td>\n",
       "      <td>0</td>\n",
       "      <td>0</td>\n",
       "      <td>0</td>\n",
       "      <td>0</td>\n",
       "      <td>0</td>\n",
       "      <td>0</td>\n",
       "      <td>0</td>\n",
       "    </tr>\n",
       "  </tbody>\n",
       "</table>\n",
       "<p>5 rows × 1150 columns</p>\n",
       "</div>"
      ],
      "text/plain": [
       "   1847 At the Stamm House  1855 Saloon and Grill  4 Sisters Restaurant  \\\n",
       "0                        1                      0                     0   \n",
       "1                        1                      0                     0   \n",
       "2                        1                      0                     0   \n",
       "3                        1                      0                     0   \n",
       "4                        1                      0                     0   \n",
       "\n",
       "   5100 Bar & Grill  5th Quarter Sports Bar & Grill  7-Eleven  \\\n",
       "0                 0                               0         0   \n",
       "1                 0                               0         0   \n",
       "2                 0                               0         0   \n",
       "3                 0                               0         0   \n",
       "4                 0                               0         0   \n",
       "\n",
       "   A La Brasa Mexican Grill  A&W Restaurant  A-Mart Asian Grocery  A8 China  \\\n",
       "0                         0               0                     0         0   \n",
       "1                         0               0                     0         0   \n",
       "2                         0               0                     0         0   \n",
       "3                         0               0                     0         0   \n",
       "4                         0               0                     0         0   \n",
       "\n",
       "     ...      Yofresh Frozen Yogurt Cafe  Yola's Cafe  Yue-Wah Oriental Foods  \\\n",
       "0    ...                               0            0                       0   \n",
       "1    ...                               0            0                       0   \n",
       "2    ...                               0            0                       0   \n",
       "3    ...                               0            0                       0   \n",
       "4    ...                               0            0                       0   \n",
       "\n",
       "   Yumbutter  ZenZen Taste 四合院  Ziggy's BBQ Smokehouse & Ice Cream Parlor  \\\n",
       "0          0                 0                                          0   \n",
       "1          0                 0                                          0   \n",
       "2          0                 0                                          0   \n",
       "3          0                 0                                          0   \n",
       "4          0                 0                                          0   \n",
       "\n",
       "   Zoe's Pizzeria  Zoup!  ZuZu Cafe & Market  koi sushi  \n",
       "0               0      0                   0          0  \n",
       "1               0      0                   0          0  \n",
       "2               0      0                   0          0  \n",
       "3               0      0                   0          0  \n",
       "4               0      0                   0          0  \n",
       "\n",
       "[5 rows x 1150 columns]"
      ]
     },
     "execution_count": 2,
     "metadata": {},
     "output_type": "execute_result"
    }
   ],
   "source": [
    "ratingTotal = {}\n",
    "ratingCount = {}\n",
    "for i in range(0, len(names)):\n",
    "    name = names[i]\n",
    "    star = stars[i]\n",
    "    if name not in ratingTotal:\n",
    "        ratingTotal[name] = 0\n",
    "        ratingCount[name] = 0\n",
    "    ratingTotal[name] += star\n",
    "    ratingCount[name]+=1\n",
    "print(len(ratingTotal))\n",
    "print(len(ratingCount))\n",
    "ratingAverage = dict((k, float(ratingTotal[k])/ratingCount[k]) for k in ratingCount)\n",
    "#Turns the predictor from rating to difference above or below mean rating for the restaurant\n",
    "#for i in range(0, len(names)):\n",
    "#    name = names[i]\n",
    "#    diffScore = stars[i]-ratingAverage[name]\n",
    "#    print(diffScore)\n",
    "#    diffScores.append(diffScore)\n",
    "train_city = train['city']\n",
    "test_city = test['city']\n",
    "city_dummies = pd.get_dummies(train_city)\n",
    "city_dummies_T = pd.get_dummies(test_city)\n",
    "city_dummies.head(5)\n",
    "#city_dummies_T.head(5)\n",
    "city_dummies.columns\n",
    "name_dummies =pd.get_dummies(train['name'])\n",
    "name_dummies.head(5)"
   ]
  },
  {
   "cell_type": "code",
   "execution_count": 3,
   "metadata": {
    "collapsed": true
   },
   "outputs": [],
   "source": [
    "positiveCount = []\n",
    "negativeCount = []\n",
    "positiveOverall = []\n",
    "ratingArray = []\n",
    "nwords = []\n",
    "posnshort = []\n",
    "negnlong = []\n",
    "nchars = []\n",
    "avgChars = []\n",
    "cityscore =[]\n",
    "#negativeplus = []\n",
    "#numReviews = []\n",
    "#posnegratio = []\n",
    "#rating > 3.7 cities\n",
    "#zip : 53598, 53706, 53589, 53702, 53508, 53583, 53529, 53559, 53774, 53925\n",
    "city = ['Belleville', 'Columbus', 'Dane','Marshall', 'McFarland','Paoli', 'Sauk City', 'Stoughton', 'Windsor', 'Madison', 'Verona', 'DeForest', 'Mount Horeb']\n",
    "#rating <3 cities : Sun praiie, Deforest\n",
    "#zip : 53527, 53590, 53719, 53713, 53597, 53718, 53531, 53515, 53701\n",
    "# \"casual\",\"creamy\", \"cocktails\", \"shared\", \"chocolate\",\"desserts\", \"topped\", \"wine\", \"specials\", \"brunch\", \"share\", \"curds\", \"sweet\", \"cake\",\"family\", \"fast\", \"soft\",\"cocktail\", \"cream\",\"beers\",\"dessert\"\n",
    "# \"trying\", \"middle\", \"hard\", \"return\", \"gotten\", \"last\", \"needed\", \"almost\", \"expecting\",\"mostly\", \"working\", \"already\", \"salty\", \"mentioned\",\"brought\",\"server\", \"guess\", \"paying\",\"card\"\n",
    "\n",
    "positiveWords = [\"knowledgeable\", \"gem\", \"highly\", \"incredible\", \"amazing\", \"die\", \"favorites\", \"wonderful\", \"perfect\", \"fantastic\", \"notch\",\n",
    "                 \"favorite\", \"awesome\", \"outstanding\", \"yum\", \"delicious\", \"excellent\", \"perfectly\", \"loved\", \"helpful\", \"best\", \n",
    "                 \"savory\", \"cozy\", \"unique\", \"yummy\", \"glad\", \"homemade\", \"best\", \"love\", \"lovely\", \"always\", \"friendly\", \"fan\",  \n",
    "                 \"reasonable\", \"beautiful\", \"recommended\", \"fashioned\", \"classic\", \"traditional\", \"great\", \"fresh\", \"definitely\",\n",
    "                 \"healthy\", \"decent\", \"generous\", \"comfortable\", \"rich\", \"recommend\", \"local\", \"authentic\", \"flavorful\", \"highly\",\n",
    "                 \"enjoyed\", \"pleased\", \"flavors\", \"super\", \"happy\", \"absolutely\", \"tasty\", \"enjoy\", \"fun\", \"reasonably\", \"plenty\",\n",
    "                 \"attentive\", \"truly\", \"fancy\", \"wow\", \"must\", \"nicely\", \"every\", \"quick\", \"easily\", \"craving\", \"well\", \"early\"]\n",
    "negativeWords = [\"disappointing\", \"weird\", \"issue\", \"none\", \"last\", \"problem\", \"dirty\", \"mediocre\", \"ok\", \"poor\", \"terrible\",\n",
    "                 \"awful\", \"rude\", \"horrible\", \"worst\", \"overpriced\", \"needed\", \"barely\", \"sorry\", \"waited\", \"soggy\", \"waiting\",\n",
    "                 \"bland\", \"forgot\", \"hope\",\"unfortunately\", \"sad\", \"away\", \"bad\", \"loud\", \"overly\", \"greasy\", \"frozen\", \"dry\",\n",
    "                 \"empty\", \"never\", \"less\", \"hard\", \"expensive\", \"tiny\", \"however\", \"wrong\", \"longer\", \"nothing\", \"average\", \n",
    "                 \"cold\", \"slow\", \"lack\", \"avoid\", \"forget\", \"left\", \"worst\", \"paid\", \"money\", \"minutes\", \"phone\",\"asking\",\n",
    "                 \"manager\", \"paying\", \"finally\", \"called\", \"charge\", \"customer\", \"clearly\", \"bill\", \"asked\", \"told\"]\n",
    "for i in range(0, len(names)):\n",
    "    #print(i)\n",
    "    #print(len(names))\n",
    "    posC = 0\n",
    "    negC = 0\n",
    "    cityC = 0\n",
    "    for word in positiveWords:\n",
    "        wordCount = train[word][i]\n",
    "        posC+=wordCount\n",
    "    for negWord in negativeWords:\n",
    "        negWordCount = train[negWord][i]\n",
    "        negC+=negWordCount\n",
    "    nword = np.array(train[\"nword\"])[i]\n",
    "    nchar = np.array(train[\"nchar\"])[i]\n",
    "    Rnames = np.array(train[\"name\"])[i]\n",
    "    avgChars.append(nchar/nword)\n",
    "    for town in city:\n",
    "        if train['city'][i] == town:\n",
    "            cityC = 1\n",
    "            break\n",
    "        else:\n",
    "            continue\n",
    "    nwords.append(nword)\n",
    "    nchars.append(nchar)\n",
    "    positiveCount.append(posC)\n",
    "    negativeCount.append(negC)\n",
    "    cityscore.append(cityC)\n",
    "    posnshort.append(positiveCount[i]/nwords[i])\n",
    "    negnlong.append(negativeCount[i]*nwords[i])\n",
    "    if posC>negC:\n",
    "        positiveOverall.append(1)\n",
    "    elif posC<negC:\n",
    "        positiveOverall.append(-1.5)\n",
    "    else:\n",
    "        positiveOverall.append(0)\n",
    "    ratingArray.append(ratingAverage[names[i]])\n",
    "    #numReviews.append(ratingCount[names[i]])\n",
    "#predictors = np.array([positiveCount, negativeCount, ratingArray])\n",
    "\n",
    "#predictors = np.array([nwords, positiveOverall, ratingArray, positiveCount, negativeCount, posRatio])\n",
    "#posRatio = np.array(posRatio)\n",
    "#print(posRatio)\n",
    "\n",
    "\n",
    "# smallRatingAverage = dict((k, float(ratingTotal[k])/ratingCount[k]) for k in ratingCount if ratingCount[k]<3)\n",
    "# smallTotal = 0\n",
    "# for k in smallRatingAverage:\n",
    "#     smallTotal+=float(smallRatingAverage[k])\n",
    "# print(\"Small Total: \", len(smallRatingAverage))\n",
    "# print(\"Small Average: \", smallTotal/len(smallRatingAverage))\n",
    "\n",
    "# largeRatingAverage = dict((k, float(ratingTotal[k])/ratingCount[k]) for k in ratingCount if ratingCount[k]>=50)\n",
    "# largeTotal = 0\n",
    "# for k in largeRatingAverage:\n",
    "#     largeTotal+=float(largeRatingAverage[k])\n",
    "# print(\"Large Total: \", len(largeRatingAverage))    \n",
    "# print(\"Large Average: \", largeTotal/len(largeRatingAverage))\n",
    "#47.81 - 0.952\n",
    "#49.79\n",
    "#49.91"
   ]
  },
  {
   "cell_type": "code",
   "execution_count": 4,
   "metadata": {},
   "outputs": [
    {
     "name": "stderr",
     "output_type": "stream",
     "text": [
      "C:\\Users\\LG\\Anaconda3\\lib\\site-packages\\sklearn\\ensemble\\weight_boosting.py:29: DeprecationWarning: numpy.core.umath_tests is an internal NumPy module and should not be imported. It will be removed in a future NumPy release.\n",
      "  from numpy.core.umath_tests import inner1d\n"
     ]
    }
   ],
   "source": [
    "from sklearn.ensemble import RandomForestClassifier\n",
    "from sklearn.naive_bayes import GaussianNB\n",
    "from sklearn.svm import SVC, LinearSVC\n",
    "from sklearn.tree import DecisionTreeClassifier\n",
    "from sklearn.neighbors import KNeighborsClassifier\n",
    "\n",
    "predictors = np.array([positiveOverall, ratingArray, negativeCount, posnshort])\n",
    "predictors = predictors.T\n",
    "x_train = pd.DataFrame(predictors)\n",
    "y_train = train['star']"
   ]
  },
  {
   "cell_type": "code",
   "execution_count": null,
   "metadata": {},
   "outputs": [
    {
     "name": "stderr",
     "output_type": "stream",
     "text": [
      "C:\\Users\\LG\\Anaconda3\\lib\\site-packages\\ipykernel_launcher.py:4: SettingWithCopyWarning: \n",
      "A value is trying to be set on a copy of a slice from a DataFrame\n",
      "\n",
      "See the caveats in the documentation: http://pandas.pydata.org/pandas-docs/stable/indexing.html#indexing-view-versus-copy\n",
      "  after removing the cwd from sys.path.\n"
     ]
    }
   ],
   "source": [
    "#Normalize\n",
    "#for k in range(0,4):\n",
    "for i in range(0, len(y_train)):\n",
    "    y_train[i] = (y_train[i] - np.mean(y_train))/np.std(y_train)"
   ]
  },
  {
   "cell_type": "code",
   "execution_count": 7,
   "metadata": {},
   "outputs": [
    {
     "data": {
      "text/plain": [
       "3.758290145345439"
      ]
     },
     "execution_count": 7,
     "metadata": {},
     "output_type": "execute_result"
    }
   ],
   "source": [
    "np.mean(y_train)"
   ]
  },
  {
   "cell_type": "code",
   "execution_count": 5,
   "metadata": {},
   "outputs": [
    {
     "data": {
      "text/plain": [
       "'Star'"
      ]
     },
     "execution_count": 5,
     "metadata": {},
     "output_type": "execute_result"
    }
   ],
   "source": [
    "y_variable = pd.DataFrame(y_train)\n",
    "result = pd.concat([y_variable, x_train], axis=1)\n",
    "result.columns = ['Star','Overall', 'Rating_avg','num_Negative','Pos_Short']\n",
    "\n",
    "result.columns[0]"
   ]
  },
  {
   "cell_type": "code",
   "execution_count": 6,
   "metadata": {},
   "outputs": [
    {
     "data": {
      "text/plain": [
       "<matplotlib.axes._subplots.AxesSubplot at 0x174fe099128>"
      ]
     },
     "execution_count": 6,
     "metadata": {},
     "output_type": "execute_result"
    },
    {
     "data": {
      "image/png": "[encoded data removed]",
      "text/plain": [
       "<Figure size 864x648 with 2 Axes>"
      ]
     },
     "metadata": {},
     "output_type": "display_data"
    }
   ],
   "source": [
    "import seaborn as sns\n",
    "import matplotlib.pyplot as plt\n",
    "%matplotlib inline\n",
    "\n",
    "corrmat = result.corr()\n",
    "plt.subplots(figsize=(12,9))\n",
    "sns.heatmap(corrmat, vmax=0.9, square=True)"
   ]
  },
  {
   "cell_type": "code",
   "execution_count": 61,
   "metadata": {},
   "outputs": [
    {
     "data": {
      "text/html": [
       "<div>\n",
       "<style>\n",
       "    .dataframe thead tr:only-child th {\n",
       "        text-align: right;\n",
       "    }\n",
       "\n",
       "    .dataframe thead th {\n",
       "        text-align: left;\n",
       "    }\n",
       "\n",
       "    .dataframe tbody tr th {\n",
       "        vertical-align: top;\n",
       "    }\n",
       "</style>\n",
       "<table border=\"1\" class=\"dataframe\">\n",
       "  <thead>\n",
       "    <tr style=\"text-align: right;\">\n",
       "      <th></th>\n",
       "      <th>0</th>\n",
       "      <th>1</th>\n",
       "      <th>2</th>\n",
       "      <th>3</th>\n",
       "      <th>4</th>\n",
       "      <th>5</th>\n",
       "      <th>6</th>\n",
       "      <th>7</th>\n",
       "      <th>1847 At the Stamm House</th>\n",
       "      <th>1855 Saloon and Grill</th>\n",
       "      <th>...</th>\n",
       "      <th>Yofresh Frozen Yogurt Cafe</th>\n",
       "      <th>Yola's Cafe</th>\n",
       "      <th>Yue-Wah Oriental Foods</th>\n",
       "      <th>Yumbutter</th>\n",
       "      <th>ZenZen Taste 四合院</th>\n",
       "      <th>Ziggy's BBQ Smokehouse &amp; Ice Cream Parlor</th>\n",
       "      <th>Zoe's Pizzeria</th>\n",
       "      <th>Zoup!</th>\n",
       "      <th>ZuZu Cafe &amp; Market</th>\n",
       "      <th>koi sushi</th>\n",
       "    </tr>\n",
       "  </thead>\n",
       "  <tbody>\n",
       "    <tr>\n",
       "      <th>0</th>\n",
       "      <td>0.0</td>\n",
       "      <td>3.721519</td>\n",
       "      <td>13.0</td>\n",
       "      <td>-13.0</td>\n",
       "      <td>0.036932</td>\n",
       "      <td>-4576.0</td>\n",
       "      <td>5.579545</td>\n",
       "      <td>0.0</td>\n",
       "      <td>1</td>\n",
       "      <td>0</td>\n",
       "      <td>...</td>\n",
       "      <td>0</td>\n",
       "      <td>0</td>\n",
       "      <td>0</td>\n",
       "      <td>0</td>\n",
       "      <td>0</td>\n",
       "      <td>0</td>\n",
       "      <td>0</td>\n",
       "      <td>0</td>\n",
       "      <td>0</td>\n",
       "      <td>0</td>\n",
       "    </tr>\n",
       "    <tr>\n",
       "      <th>1</th>\n",
       "      <td>1.0</td>\n",
       "      <td>3.721519</td>\n",
       "      <td>5.0</td>\n",
       "      <td>-2.0</td>\n",
       "      <td>0.047619</td>\n",
       "      <td>-210.0</td>\n",
       "      <td>5.314286</td>\n",
       "      <td>0.0</td>\n",
       "      <td>1</td>\n",
       "      <td>0</td>\n",
       "      <td>...</td>\n",
       "      <td>0</td>\n",
       "      <td>0</td>\n",
       "      <td>0</td>\n",
       "      <td>0</td>\n",
       "      <td>0</td>\n",
       "      <td>0</td>\n",
       "      <td>0</td>\n",
       "      <td>0</td>\n",
       "      <td>0</td>\n",
       "      <td>0</td>\n",
       "    </tr>\n",
       "    <tr>\n",
       "      <th>2</th>\n",
       "      <td>1.0</td>\n",
       "      <td>3.721519</td>\n",
       "      <td>5.0</td>\n",
       "      <td>-2.0</td>\n",
       "      <td>0.056818</td>\n",
       "      <td>-176.0</td>\n",
       "      <td>6.238636</td>\n",
       "      <td>0.0</td>\n",
       "      <td>1</td>\n",
       "      <td>0</td>\n",
       "      <td>...</td>\n",
       "      <td>0</td>\n",
       "      <td>0</td>\n",
       "      <td>0</td>\n",
       "      <td>0</td>\n",
       "      <td>0</td>\n",
       "      <td>0</td>\n",
       "      <td>0</td>\n",
       "      <td>0</td>\n",
       "      <td>0</td>\n",
       "      <td>0</td>\n",
       "    </tr>\n",
       "  </tbody>\n",
       "</table>\n",
       "<p>3 rows × 1158 columns</p>\n",
       "</div>"
      ],
      "text/plain": [
       "     0         1     2     3         4       5         6    7  \\\n",
       "0  0.0  3.721519  13.0 -13.0  0.036932 -4576.0  5.579545  0.0   \n",
       "1  1.0  3.721519   5.0  -2.0  0.047619  -210.0  5.314286  0.0   \n",
       "2  1.0  3.721519   5.0  -2.0  0.056818  -176.0  6.238636  0.0   \n",
       "\n",
       "   1847 At the Stamm House  1855 Saloon and Grill    ...      \\\n",
       "0                        1                      0    ...       \n",
       "1                        1                      0    ...       \n",
       "2                        1                      0    ...       \n",
       "\n",
       "   Yofresh Frozen Yogurt Cafe  Yola's Cafe  Yue-Wah Oriental Foods  Yumbutter  \\\n",
       "0                           0            0                       0          0   \n",
       "1                           0            0                       0          0   \n",
       "2                           0            0                       0          0   \n",
       "\n",
       "   ZenZen Taste 四合院  Ziggy's BBQ Smokehouse & Ice Cream Parlor  \\\n",
       "0                 0                                          0   \n",
       "1                 0                                          0   \n",
       "2                 0                                          0   \n",
       "\n",
       "   Zoe's Pizzeria  Zoup!  ZuZu Cafe & Market  koi sushi  \n",
       "0               0      0                   0          0  \n",
       "1               0      0                   0          0  \n",
       "2               0      0                   0          0  \n",
       "\n",
       "[3 rows x 1158 columns]"
      ]
     },
     "execution_count": 61,
     "metadata": {},
     "output_type": "execute_result"
    }
   ],
   "source": [
    "#x_train = x_train.join(city_dummies)\n",
    "x_train = x_train.join(name_dummies)\n",
    "x_train.head(3)"
   ]
  },
  {
   "cell_type": "code",
   "execution_count": 7,
   "metadata": {},
   "outputs": [
    {
     "name": "stdout",
     "output_type": "stream",
     "text": [
      "48.71\n",
      "92.52\n",
      "46.09\n",
      "94.78\n",
      "60.55\n"
     ]
    }
   ],
   "source": [
    "reg = linear_model.LinearRegression()\n",
    "model_reg = reg.fit(x_train, y_train)\n",
    "\n",
    "acc_MLR= round(reg.score(x_train, y_train)*100,2)\n",
    "print(acc_MLR)\n",
    "\n",
    "random_forest = RandomForestClassifier()\n",
    "model_rf = random_forest.fit(x_train, y_train)\n",
    "acc_RF= round(random_forest.score(x_train, y_train)*100,2)\n",
    "print(acc_RF)\n",
    "\n",
    "gaussian = GaussianNB()\n",
    "model_gau = gaussian.fit(x_train, y_train)\n",
    "acc_NB= round(gaussian.score(x_train, y_train)*100,2)\n",
    "print(acc_NB)\n",
    "\n",
    "#linear_svc = LinearSVC()\n",
    "#linear_svc.fit(predictors, train[\"star\"])\n",
    "#acc_linear_svc= round(linear_svc.score(predictors, train[\"star\"])*100,2)\n",
    "#print(acc_linear_svc)\n",
    "\n",
    "decision_tree = DecisionTreeClassifier()\n",
    "model_dt = decision_tree.fit(x_train, y_train)\n",
    "acc_DT= round(decision_tree.score(x_train, y_train)*100,2)\n",
    "print(acc_DT)\n",
    "\n",
    "knn = KNeighborsClassifier()\n",
    "model_knn= knn.fit(x_train, y_train)\n",
    "acc_knn= round(knn.score(x_train, y_train)*100,2)\n",
    "print(acc_knn)\n",
    "\n",
    "#49.87\n",
    "#50.64(x_train+cityD,nameD)\n",
    "#50.6(x_train + nameD)"
   ]
  },
  {
   "cell_type": "code",
   "execution_count": 79,
   "metadata": {},
   "outputs": [
    {
     "name": "stdout",
     "output_type": "stream",
     "text": [
      "85.25\n"
     ]
    }
   ],
   "source": [
    "from sklearn.ensemble import RandomForestRegressor\n",
    "\n",
    "rf_reg = RandomForestRegressor()\n",
    "model_rfr = rf_reg.fit(x_train, y_train)\n",
    "acc_RFR = round(rf_reg.score(x_train, y_train)*100,2)\n",
    "print(acc_RFR)"
   ]
  },
  {
   "cell_type": "code",
   "execution_count": 8,
   "metadata": {},
   "outputs": [
    {
     "name": "stdout",
     "output_type": "stream",
     "text": [
      "47.95\n"
     ]
    }
   ],
   "source": [
    "ls = linear_model.LogisticRegression(random_state=0, multi_class='multinomial', solver='newton-cg')\n",
    "model_ls = ls.fit(x_train, y_train)\n",
    "\n",
    "acc_ls= round(ls.score(x_train, y_train)*100,2)\n",
    "print(acc_ls)\n"
   ]
  },
  {
   "cell_type": "code",
   "execution_count": 81,
   "metadata": {
    "collapsed": true
   },
   "outputs": [],
   "source": [
    "from sklearn.linear_model import ElasticNet, Lasso,  BayesianRidge, LassoLarsIC\n",
    "from sklearn.ensemble import RandomForestRegressor,  GradientBoostingRegressor\n",
    "from sklearn.kernel_ridge import KernelRidge\n",
    "from sklearn.pipeline import make_pipeline\n",
    "from sklearn.preprocessing import RobustScaler\n",
    "from sklearn.base import BaseEstimator, TransformerMixin, RegressorMixin, clone\n",
    "from sklearn.model_selection import KFold, cross_val_score, train_test_split\n",
    "from sklearn.metrics import mean_squared_error\n",
    "import xgboost as xgb\n",
    "import lightgbm as lgb\n",
    "from sklearn.model_selection import RandomizedSearchCV,GridSearchCV\n",
    "\n",
    "lasso = make_pipeline(RobustScaler(), Lasso(alpha=0.0005, random_state=1))\n",
    "ENet = make_pipeline(RobustScaler(), ElasticNet(alpha=0.0005, l1_ratio=.9, random_state=3))\n",
    "\n",
    "GBoost = GradientBoostingRegressor(n_estimators=3000, learning_rate=0.05, max_depth=4,\n",
    "                                   max_features='sqrt', min_samples_leaf=15, min_samples_split=10,\n",
    "                                   loss='huber', random_state=5)\n",
    "\n",
    "#KRR = KernelRidge(alpha=0.6, kernel='polynomial', degree=2, coef0=2.5)\n",
    "\n",
    "model_xgb = xgb.XGBRegressor(colsample_bytree=0.4603, gamma=0.0468, \n",
    "                             learning_rate=0.05, max_depth=3, \n",
    "                             min_child_weight=1.7817, n_estimators=2200,\n",
    "                             reg_alpha=0.4640, reg_lambda=0.8571,\n",
    "                             subsample=0.5213, silent=1,\n",
    "                             random_state =7, nthread = -1)\n",
    "\n",
    "model_lgb = lgb.LGBMRegressor(objective='regression',num_leaves=5,\n",
    "                              learning_rate=0.05, n_estimators=720,\n",
    "                              max_bin = 55, bagging_fraction = 0.8,\n",
    "                              bagging_freq = 5, feature_fraction = 0.2319,\n",
    "                              feature_fraction_seed=9, bagging_seed=9,\n",
    "                              min_data_in_leaf =6, min_sum_hessian_in_leaf = 11)"
   ]
  },
  {
   "cell_type": "code",
   "execution_count": null,
   "metadata": {
    "collapsed": true
   },
   "outputs": [],
   "source": [
    "#gbm = xgb.XGBRegressor()\n",
    "#gbm_cv = GridSearchCV(gbm, {\"colsample_bytree\":[1.0],\"min_child_weight\":[1.0,1.2]\n",
    "#                            ,'max_depth': [3,4,6], 'n_estimators': [500,1000]}, verbose=1)\n",
    "#gbm_cv.fit(x_train,y_train)\n",
    "#print(gbm_cv.best_params_)\n",
    "\n",
    "\n",
    "#lgbr = lgb.LGBMRegressor()\n",
    "#lgbr = GridSearchCV(lgbr, {\"colsample_bytree\":[1.0],\"min_child_weight\":[1.0,1.2]\n",
    "#                            ,'max_depth': [3,4,6], 'n_estimators': [500,1000]}, verbose=1)\n",
    "#lgbr_cv.fit(x_train,y_train)\n",
    "#print(lgbr_cv.best_params_)\n",
    "#gbm = xgb.XGBRegressor(**gbm_cv.best_params_)\n",
    "#model_xgb = gbm.fit(x_train,y_train)\n",
    "\n",
    "#lgb = lgb.LGBMRegressor(**lgb_cv.best_params_)\n",
    "#model_lgb = lgb.fit(x_train,y_train)"
   ]
  },
  {
   "cell_type": "code",
   "execution_count": 10,
   "metadata": {
    "collapsed": true
   },
   "outputs": [],
   "source": [
    "n_folds = 3\n",
    "\n",
    "def rmse_cv(model):\n",
    "    kf = KFold(n_folds, shuffle=True, random_state=96).get_n_splits(x_train.values)\n",
    "    rmse = np.sqrt(-cross_val_score(model, x_train.values, y_train, scoring=\"neg_mean_squared_error\", cv = kf))\n",
    "    return (rmse)"
   ]
  },
  {
   "cell_type": "code",
   "execution_count": 12,
   "metadata": {},
   "outputs": [
    {
     "name": "stdout",
     "output_type": "stream",
     "text": [
      "RandomForest score: 1.2338 (0.0111)\n",
      "\n",
      "MLR score: 0.9291 (0.0041)\n",
      "\n",
      "knn score: 1.2017 (0.0087)\n",
      "\n",
      "NB score: 1.2265 (0.0026)\n",
      "\n",
      "DT score: 1.3121 (0.0076)\n",
      "\n",
      "LG score: 1.1053 (0.0111)\n",
      "\n"
     ]
    }
   ],
   "source": [
    "#score0 = rmse_cv(model_rfr)\n",
    "#print(\"RandomForestRegressor score: {:.4f} ({:.4f})\\n\".format(score0.mean(), score0.std()))\n",
    "score1 = rmse_cv(model_rf)\n",
    "print(\"RandomForest score: {:.4f} ({:.4f})\\n\".format(score1.mean(), score1.std()))\n",
    "score2 = rmse_cv(model_reg)\n",
    "print(\"MLR score: {:.4f} ({:.4f})\\n\".format(score2.mean(), score2.std()))\n",
    "score3 = rmse_cv(model_knn)\n",
    "print(\"knn score: {:.4f} ({:.4f})\\n\".format(score3.mean(), score3.std()))\n",
    "score4 = rmse_cv(model_gau)\n",
    "print(\"NB score: {:.4f} ({:.4f})\\n\".format(score4.mean(), score4.std()))\n",
    "score5 = rmse_cv(model_dt)\n",
    "print(\"DT score: {:.4f} ({:.4f})\\n\".format(score5.mean(), score5.std()))\n",
    "score00 = rmse_cv(model_ls)\n",
    "print(\"LG score: {:.4f} ({:.4f})\\n\".format(score00.mean(), score00.std()))\n",
    "#0.9187(9predictors)"
   ]
  },
  {
   "cell_type": "code",
   "execution_count": 13,
   "metadata": {},
   "outputs": [
    {
     "data": {
      "image/png": "[encoded data removed]",
      "text/plain": [
       "<Figure size 432x288 with 1 Axes>"
      ]
     },
     "metadata": {},
     "output_type": "display_data"
    }
   ],
   "source": [
    "from scipy import stats\n",
    "from scipy.stats import norm, skew\n",
    "fig = plt.figure()\n",
    "res = stats.probplot(result['Star'], plot=plt)\n",
    "plt.show()"
   ]
  },
  {
   "cell_type": "code",
   "execution_count": 14,
   "metadata": {},
   "outputs": [
    {
     "name": "stderr",
     "output_type": "stream",
     "text": [
      "C:\\Users\\LG\\Anaconda3\\lib\\site-packages\\statsmodels\\compat\\pandas.py:56: FutureWarning: The pandas.core.datetools module is deprecated and will be removed in a future version. Please use the pandas.tseries module instead.\n",
      "  from pandas.core import datetools\n"
     ]
    }
   ],
   "source": [
    "import numpy as np\n",
    "import pandas as pd\n",
    "import seaborn as sns\n",
    "import statsmodels.api as sm\n",
    "import matplotlib.pyplot as plt\n",
    "from statsmodels.graphics.gofplots import ProbPlot\n",
    "plt.style.use('seaborn') # pretty matplotlib plots\n",
    "plt.rc('font', size=14)\n",
    "plt.rc('figure', titlesize=18)\n",
    "plt.rc('axes', labelsize=15)\n",
    "plt.rc('axes', titlesize=18)"
   ]
  },
  {
   "cell_type": "code",
   "execution_count": 15,
   "metadata": {
    "collapsed": true
   },
   "outputs": [],
   "source": []
  },
  {
   "cell_type": "code",
   "execution_count": 16,
   "metadata": {},
   "outputs": [
    {
     "data": {
      "image/png": "[encoded data removed]",
      "text/plain": [
       "<Figure size 576x396 with 1 Axes>"
      ]
     },
     "metadata": {},
     "output_type": "display_data"
    }
   ],
   "source": [
    "# model values\n",
    "model_fitted_y = model_fit.fittedvalues\n",
    "# model residuals\n",
    "model_residuals = model_fit.resid\n",
    "# normalized residuals\n",
    "model_norm_residuals = model_fit.get_influence().resid_studentized_internal\n",
    "# absolute squared normalized residuals\n",
    "model_norm_residuals_abs_sqrt = np.sqrt(np.abs(model_norm_residuals))\n",
    "# absolute residuals\n",
    "model_abs_resid = np.abs(model_residuals)\n",
    "# leverage, from statsmodels internals\n",
    "model_leverage = model_fit.get_influence().hat_matrix_diag\n",
    "# cook's distance, from statsmodels internals\n",
    "model_cooks = model_fit.get_influence().cooks_distance[0]\n",
    "\n",
    "plot_lm_1 = plt.figure()\n",
    "plot_lm_1.axes[0] = sns.residplot(model_fitted_y, result.columns[0], data=result,\n",
    "                          lowess=True,\n",
    "                          scatter_kws={'alpha': 0.5},\n",
    "                          line_kws={'color': 'red', 'lw': 1, 'alpha': 0.8})\n",
    "\n",
    "plot_lm_1.axes[0].set_title('Residuals vs Fitted')\n",
    "plot_lm_1.axes[0].set_xlabel('Fitted values')\n",
    "plot_lm_1.axes[0].set_ylabel('Residuals');"
   ]
  },
  {
   "cell_type": "code",
   "execution_count": 17,
   "metadata": {},
   "outputs": [
    {
     "data": {
      "image/png": "[encoded data removed]",
      "text/plain": [
       "<Figure size 576x396 with 1 Axes>"
      ]
     },
     "metadata": {},
     "output_type": "display_data"
    }
   ],
   "source": [
    "# generate OLS model\n",
    "model = sm.OLS(y_train, sm.add_constant(x_train))\n",
    "model_fit = model.fit()\n",
    "\n",
    "# model values\n",
    "model_fitted_y = model_fit.fittedvalues\n",
    "# model residuals\n",
    "model_residuals = model_fit.resid\n",
    "# normalized residuals\n",
    "model_norm_residuals = model_fit.get_influence().resid_studentized_internal\n",
    "# absolute squared normalized residuals\n",
    "model_norm_residuals_abs_sqrt = np.sqrt(np.abs(model_norm_residuals))\n",
    "\n",
    "QQ = ProbPlot(model_norm_residuals)\n",
    "plot_lm_2 = QQ.qqplot(line='45', alpha=0.5, color='#4C72B0', lw=1)\n",
    "plot_lm_2.axes[0].set_title('Normal Q-Q')\n",
    "plot_lm_2.axes[0].set_xlabel('Theoretical Quantiles')\n",
    "plot_lm_2.axes[0].set_ylabel('Standardized Residuals');\n",
    "# annotations\n",
    "abs_norm_resid = np.flip(np.argsort(np.abs(model_norm_residuals)), 0)\n",
    "abs_norm_resid_top_3 = abs_norm_resid[:3]\n",
    "for r, i in enumerate(abs_norm_resid_top_3):\n",
    "    plot_lm_2.axes[0].annotate(i,\n",
    "                               xy=(np.flip(QQ.theoretical_quantiles, 0)[r],\n",
    "                                   model_norm_residuals[i]));"
   ]
  },
  {
   "cell_type": "code",
   "execution_count": 19,
   "metadata": {},
   "outputs": [
    {
     "data": {
      "image/png": "[encoded data removed]",
      "text/plain": [
       "<Figure size 576x396 with 1 Axes>"
      ]
     },
     "metadata": {},
     "output_type": "display_data"
    }
   ],
   "source": [
    "plot_lm_4 = plt.figure();\n",
    "plt.scatter(model_leverage, model_norm_residuals, alpha=0.5);\n",
    "sns.regplot(model_leverage, model_norm_residuals,\n",
    "              scatter=False,\n",
    "              ci=False,\n",
    "              lowess=True,\n",
    "              line_kws={'color': 'red', 'lw': 1, 'alpha': 0.8});\n",
    "plot_lm_4.axes[0].set_xlim(0, max(model_leverage)+0.01)\n",
    "plot_lm_4.axes[0].set_ylim(-3, 5)\n",
    "plot_lm_4.axes[0].set_title('Residuals vs Leverage')\n",
    "plot_lm_4.axes[0].set_xlabel('Leverage')\n",
    "plot_lm_4.axes[0].set_ylabel('Standardized Residuals');\n",
    "\n",
    "  # annotations\n",
    "leverage_top_3 = np.flip(np.argsort(model_cooks), 0)[:3]\n",
    "for i in leverage_top_3:\n",
    "      plot_lm_4.axes[0].annotate(i,\n",
    "                                 xy=(model_leverage[i],\n",
    "                                     model_norm_residuals[i]));"
   ]
  },
  {
   "cell_type": "code",
   "execution_count": 102,
   "metadata": {},
   "outputs": [
    {
     "name": "stdout",
     "output_type": "stream",
     "text": [
      "3.758290145345439 1.2972424926947212\n"
     ]
    },
    {
     "name": "stderr",
     "output_type": "stream",
     "text": [
      "C:\\Users\\LG\\Anaconda3\\lib\\site-packages\\scipy\\stats\\stats.py:1633: FutureWarning: Using a non-tuple sequence for multidimensional indexing is deprecated; use `arr[tuple(seq)]` instead of `arr[seq]`. In the future this will be interpreted as an array index, `arr[np.array(seq)]`, which will result either in an error or a different result.\n",
      "  return np.add.reduce(sorted[indexer] * weights, axis=axis) / sumval\n",
      "C:\\Users\\LG\\Anaconda3\\lib\\site-packages\\matplotlib\\axes\\_axes.py:6462: UserWarning: The 'normed' kwarg is deprecated, and has been replaced by the 'density' kwarg.\n",
      "  warnings.warn(\"The 'normed' kwarg is deprecated, and has been \"\n"
     ]
    },
    {
     "data": {
      "text/plain": [
       "Text(0.5,1,'Star distribution')"
      ]
     },
     "execution_count": 102,
     "metadata": {},
     "output_type": "execute_result"
    },
    {
     "data": {
      "image/png": "[encoded data removed]",
      "text/plain": [
       "<Figure size 432x288 with 1 Axes>"
      ]
     },
     "metadata": {},
     "output_type": "display_data"
    }
   ],
   "source": [
    "sns.distplot(result['Star'], fit=norm)\n",
    "\n",
    "# Get the fitted parameters used by the function\n",
    "(mu, sigma) = norm.fit(result['Star'])\n",
    "print(mu, sigma)\n",
    "\n",
    "\n",
    "plt.legend(['Normal dist. ($\\mu$={:.2f} and $\\sigma$={:.2f})'.format(mu,sigma)], loc='best')\n",
    "plt.ylabel('Frequency')\n",
    "plt.title('Star distribution')"
   ]
  },
  {
   "cell_type": "code",
   "execution_count": 82,
   "metadata": {},
   "outputs": [
    {
     "name": "stdout",
     "output_type": "stream",
     "text": [
      "\n",
      "Lasso score: 0.9291 (0.0144)\n",
      "\n",
      "ElasticNet score: 0.9291 (0.0144)\n",
      "\n",
      "Xgboost score: 0.9256 (0.0147)\n",
      "\n",
      "LGBM score: 0.9236 (0.0135)\n",
      "\n"
     ]
    }
   ],
   "source": [
    "score6 = rmse_cv(lasso)\n",
    "print(\"\\nLasso score: {:.4f} ({:.4f})\\n\".format(score6.mean(), score6.std()))\n",
    "score7 = rmse_cv(ENet)\n",
    "print(\"ElasticNet score: {:.4f} ({:.4f})\\n\".format(score7.mean(), score7.std()))\n",
    "#score8 = rmse_cv(KRR)\n",
    "#print(\"Kernel Ridge score: {:.4f} ({:.4f})\\n\".format(score8.mean(), score8.std()))\n",
    "#score9 = rmse_cv(GBoost)\n",
    "#print(\"Gradient Boosting score: {:.4f} ({:.4f})\\n\".format(score9.mean(), score9.std()))\n",
    "score10 = rmse_cv(model_xgb)\n",
    "print(\"Xgboost score: {:.4f} ({:.4f})\\n\".format(score10.mean(), score10.std()))\n",
    "score11 = rmse_cv(model_lgb)\n",
    "print(\"LGBM score: {:.4f} ({:.4f})\\n\" .format(score11.mean(), score11.std()))"
   ]
  },
  {
   "cell_type": "code",
   "execution_count": 71,
   "metadata": {},
   "outputs": [
    {
     "name": "stdout",
     "output_type": "stream",
     "text": [
      "Root Mean Squared Error:  0.9290258501044223\n",
      "[0.47886608 0.59335344 0.05413099 4.65546486]\n",
      "1.286117915475284\n"
     ]
    }
   ],
   "source": [
    "from sklearn.metrics import mean_squared_error\n",
    "from math import sqrt\n",
    "y_predicted = reg.predict(x_train)\n",
    "y_actual = y_train\n",
    "rmse = sqrt(mean_squared_error(y_actual, y_predicted))\n",
    "print(\"Root Mean Squared Error: \", rmse)\n",
    "print(reg.coef_)\n",
    "print(reg.intercept_)\n",
    "#49.91, 0.918130\n",
    "#44.47, 0.966646\n",
    "\n",
    "#Root Mean Squared Error:  0.9181300136754669\n",
    "#[ 3.63677334e-01  5.70626159e-01  5.39094854e-02 -1.26081086e-01\n",
    "#  3.44469784e+00  1.27978509e-04  7.67245271e-02  1.83591417e-03\n",
    "# -4.81609779e-04 -1.83206809e-02]\n",
    "#1.0442913667733165"
   ]
  },
  {
   "cell_type": "code",
   "execution_count": 27,
   "metadata": {
    "collapsed": true
   },
   "outputs": [],
   "source": [
    "testNames = test[\"name\"]\n",
    "testIDs = test[\"Id\"]\n",
    "testExpected = []\n",
    "for i in range (0, len(testNames)):\n",
    "    name = testNames[i]\n",
    "    posC = 0\n",
    "    negC = 0\n",
    "    cityS = 0\n",
    "    posOverall = 0\n",
    "    if name in ratingAverage:\n",
    "        rating = ratingAverage[name]\n",
    "    else:\n",
    "        rating = 3.758       \n",
    "    for word in positiveWords:\n",
    "        wordCount = test[word][i]\n",
    "        posC+=wordCount\n",
    "    for word in negativeWords:\n",
    "        wordCount = test[word][i]\n",
    "        negC+=wordCount \n",
    "    if posC > negC:\n",
    "        posOverall = 1\n",
    "    elif posC < negC:\n",
    "        posOverall = -1.5\n",
    "    else:\n",
    "        posOverall = 0\n",
    "    nword = np.array(test[\"nword\"])[i]\n",
    "    nchar = np.array(test[\"nchar\"])[i]\n",
    "    for town in city:\n",
    "        if test['city'][i] == town:\n",
    "            cityS = 1\n",
    "            break\n",
    "        else:\n",
    "            continue\n",
    "    avgChar = nchar/nword\n",
    "    ratio = (posC)/(negC + 1)\n",
    "    #numReviews = ratingCount[name]\n",
    "    posnshort = posC/nword\n",
    "    negnlong = negC*nword\n",
    "    #predictors = np.array([[posC, negC, rating]])\n",
    "    predictors = np.array([[posOverall, rating, posC, negC, posnshort, negnlong, avgChar, nword, cityS]])\n",
    "    prediction = reg.predict(predictors)\n",
    "    #prediction = prediction+rating\n",
    "    testExpected.append(prediction[0])\n",
    "    #print(prediction)\n",
    "submitDF = pd.DataFrame({'Id':testIDs, 'Expected':testExpected})\n",
    "submitDF.to_csv(\"submission01_g.csv\", sep=',', index=False)"
   ]
  },
  {
   "cell_type": "code",
   "execution_count": null,
   "metadata": {
    "collapsed": true
   },
   "outputs": [],
   "source": [
    "sub = pd.read_csv(\"submission01_g.csv\")\n",
    "\n",
    "sub"
   ]
  }
 ],
 "metadata": {
  "kernelspec": {
   "display_name": "Python 3",
   "language": "python",
   "name": "python3"
  },
  "language_info": {
   "codemirror_mode": {
    "name": "ipython",
    "version": 3
   },
   "file_extension": ".py",
   "mimetype": "text/x-python",
   "name": "python",
   "nbconvert_exporter": "python",
   "pygments_lexer": "ipython3",
   "version": "3.6.2"
  }
 },
 "nbformat": 4,
 "nbformat_minor": 2
}
