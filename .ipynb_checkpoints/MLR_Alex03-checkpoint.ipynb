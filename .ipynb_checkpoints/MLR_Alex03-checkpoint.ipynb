{
 "cells": [
  {
   "cell_type": "code",
   "execution_count": 1,
   "metadata": {
    "collapsed": true
   },
   "outputs": [],
   "source": [
    "import pandas as pd\n",
    "from sklearn import linear_model\n",
    "import numpy as np\n",
    "from sklearn.neural_network import MLPClassifier\n",
    "from sklearn.model_selection import train_test_split\n",
    "from sklearn.model_selection import cross_val_score\n",
    "from sklearn.model_selection import KFold\n",
    "from sklearn.model_selection import LeaveOneOut\n",
    "train = pd.read_csv(\"train_Madison.csv\")\n",
    "#train = train[:20]\n",
    "test = pd.read_csv(\"test_Madison.csv\")\n",
    "names = train[\"name\"]\n",
    "stars = train[\"star\"]    "
   ]
  },
  {
   "cell_type": "code",
   "execution_count": 2,
   "metadata": {},
   "outputs": [
    {
     "name": "stdout",
     "output_type": "stream",
     "text": [
      "1150\n",
      "1150\n"
     ]
    }
   ],
   "source": [
    "ratingTotal = {}\n",
    "ratingCount = {}\n",
    "for i in range(0, len(names)):\n",
    "    name = names[i]\n",
    "    star = stars[i]\n",
    "    if name not in ratingTotal:\n",
    "        ratingTotal[name] = 0\n",
    "        ratingCount[name] = 0\n",
    "    ratingTotal[name] += star\n",
    "    ratingCount[name]+=1\n",
    "print(len(ratingTotal))\n",
    "print(len(ratingCount))\n",
    "ratingAverage = dict((k, float(ratingTotal[k])/ratingCount[k]) for k in ratingCount)\n",
    "#Turns the predictor from rating to difference above or below mean rating for the restaurant\n",
    "#for i in range(0, len(names)):\n",
    "#    name = names[i]\n",
    "#    diffScore = stars[i]-ratingAverage[name]\n",
    "#    print(diffScore)\n",
    "#    diffScores.append(diffScore)"
   ]
  },
  {
   "cell_type": "code",
   "execution_count": 6,
   "metadata": {},
   "outputs": [
    {
     "data": {
      "text/plain": [
       "47.81"
      ]
     },
     "execution_count": 6,
     "metadata": {},
     "output_type": "execute_result"
    }
   ],
   "source": [
    "positiveCount = []\n",
    "negativeCount = []\n",
    "positiveOverall = []\n",
    "ratingArray = []\n",
    "nwords = []\n",
    "posnshort = []\n",
    "negnlong = []\n",
    "nchars = []\n",
    "avgChars = []\n",
    "posnegratio= []\n",
    "#numReviews = []\n",
    "positiveWords = [\"gem\", \"highly\", \"incredible\", \"amazing\", \"die\", \"favorites\", \"wonderful\", \"perfect\", \"fantastic\", \"notch\",\n",
    "                 \"favorite\", \"awesome\", \"outstanding\", \"yum\", \"delicious\", \"excellent\", \"perfectly\", \"loved\", \"helpful\", \"best\", \n",
    "                 \"savory\", \"cozy\", \"unique\", \"yummy\", \"glad\", \"homemade\", \"best\", \"love\", \"lovely\", \"always\", \"friendly\", \n",
    "                 \"reasonable\", \"beautiful\", \"recommended\", \"fashioned\", \"classic\", \"traditional\", \"great\", \"fresh\", \"definitely\",\n",
    "                 \"healthy\", \"decent\", \"generous\", \"comfortable\", \"rich\", \"recommend\", \"local\", \"authentic\", \"flavorful\",\n",
    "                 \"enjoyed\", \"pleased\", \"flavors\", \"super\", \"happy\", \"absolutely\", \"tasty\", \"enjoy\", \"fun\", \"reasonably\", \"plenty\",\n",
    "                 \"attentive\", \"truly\", \"fancy\", \"wow\", \"must\", \"nicely\", \"every\", \"quick\", \"easily\", \"early\", \"craving\", \"well\"]\n",
    "negativeWords = [\"disappointing\", \"weird\", \"issue\", \"none\", \"last\", \"problem\", \"dirty\", \"mediocre\", \"ok\", \"poor\", \"terrible\",\n",
    "                 \"awful\", \"rude\", \"horrible\", \"worst\", \"overpriced\", \"needed\", \"barely\", \"sorry\", \"waited\", \"soggy\", \"waiting\",\n",
    "                 \"bland\", \"forgot\", \"hope\",\"unfortunately\", \"sad\", \"away\", \"bad\", \"loud\", \"overly\", \"greasy\", \"frozen\", \"dry\",\n",
    "                 \"empty\", \"never\", \"less\", \"hard\", \"expensive\", \"tiny\", \"however\", \"wrong\", \"longer\", \"nothing\", \"average\", \n",
    "                 \"cold\", \"slow\", \"lack\", \"avoid\", \"forget\", \"left\", \"worst\"]\n",
    "for i in range(0, len(names)):\n",
    "    #print(i)\n",
    "    #print(len(names))\n",
    "    posC = 0\n",
    "    negC = 0\n",
    "    for word in positiveWords:\n",
    "        wordCount = train[word][i]\n",
    "        posC+=wordCount\n",
    "    for negWord in negativeWords:\n",
    "        negWordCount = train[negWord][i]\n",
    "        negC+=negWordCount\n",
    "    nword = np.array(train[\"nword\"])[i]\n",
    "    nchar = np.array(train[\"nchar\"])[i]\n",
    "    avgChars.append(nchar/nword)\n",
    "    nwords.append(nword)\n",
    "    nchars.append(nchar)\n",
    "    positiveCount.append(posC)\n",
    "    negativeCount.append(negC)\n",
    "    posnegratio.append((posC)/(negC + 1))\n",
    "    posnshort.append(posC/nword)\n",
    "    negnlong.append(negC*nword)\n",
    "    if posC>negC:\n",
    "        positiveOverall.append(1)\n",
    "    elif posC<negC:\n",
    "        positiveOverall.append(-1)\n",
    "    else:\n",
    "        positiveOverall.append(0)\n",
    "    ratingArray.append(ratingAverage[names[i]])\n",
    "    #numReviews.append(ratingCount[names[i]])\n",
    "#predictors = np.array([positiveCount, negativeCount, ratingArray])\n",
    "\n",
    "#predictors = np.array([nwords, positiveOverall, ratingArray, positiveCount, negativeCount, posRatio])\n",
    "#posRatio = np.array(posRatio)\n",
    "#print(posRatio)\n",
    "predictors = np.array([positiveOverall, ratingArray, positiveCount, negativeCount, posnshort, negnlong, avgChars, nwords, nchars, posnegratio])\n",
    "predictors = predictors.T\n",
    "reg = linear_model.LinearRegression()\n",
    "reg.fit(predictors, train[\"star\"])\n",
    "acc_MLR= round(reg.score(predictors, train[\"star\"])*100,2)\n",
    "acc_MLR\n",
    "\n",
    "# smallRatingAverage = dict((k, float(ratingTotal[k])/ratingCount[k]) for k in ratingCount if ratingCount[k]<3)\n",
    "# smallTotal = 0\n",
    "# for k in smallRatingAverage:\n",
    "#     smallTotal+=float(smallRatingAverage[k])\n",
    "# print(\"Small Total: \", len(smallRatingAverage))\n",
    "# print(\"Small Average: \", smallTotal/len(smallRatingAverage))\n",
    "\n",
    "# largeRatingAverage = dict((k, float(ratingTotal[k])/ratingCount[k]) for k in ratingCount if ratingCount[k]>=50)\n",
    "# largeTotal = 0\n",
    "# for k in largeRatingAverage:\n",
    "#     largeTotal+=float(largeRatingAverage[k])\n",
    "# print(\"Large Total: \", len(largeRatingAverage))    \n",
    "# print(\"Large Average: \", largeTotal/len(largeRatingAverage))\n"
   ]
  },
  {
   "cell_type": "code",
   "execution_count": 55,
   "metadata": {
    "collapsed": true
   },
   "outputs": [],
   "source": [
    "testNames = test[\"name\"]\n",
    "testIDs = test[\"Id\"]\n",
    "testExpected = []\n",
    "for i in range (0, len(testNames)):\n",
    "    name = testNames[i]\n",
    "    posC = 0\n",
    "    negC = 0\n",
    "    posOverall = 0\n",
    "    if name in ratingAverage:\n",
    "        rating = ratingAverage[name]\n",
    "    else:\n",
    "        rating = 3.758\n",
    "        \n",
    "    for word in positiveWords:\n",
    "        wordCount = test[word][i]\n",
    "        posC+=wordCount\n",
    "    for word in negativeWords:\n",
    "        wordCount = test[word][i]\n",
    "        negC+=wordCount \n",
    "    if posC > negC:\n",
    "        posOverall = 1\n",
    "    elif posC < negC:\n",
    "        posOverall = -1\n",
    "    else:\n",
    "        posOverall = 0\n",
    "    \n",
    "    nword = np.array(test[\"nword\"])[i]\n",
    "    nchar = np.array(test[\"nchar\"])[i]\n",
    "    avgChar = nchar/nword\n",
    "    #numReviews = ratingCount[name]\n",
    "    posnshort = posC/nword\n",
    "    negnlong = negC*nword\n",
    "    posnegratio = ((posC)/(negC + 1))\n",
    "    #predictors = np.array([[posC, negC, rating]])\n",
    "    predictors = np.array([[posOverall, rating, posC, negC, posnshort, negnlong, avgChar, nword, nchar, posnegratio]])\n",
    "    prediction = reg.predict(predictors)\n",
    "    #prediction = prediction+rating\n",
    "    testExpected.append(prediction[0])\n",
    "    #print(prediction)\n",
    "submitDF = pd.DataFrame({'Id':testIDs, 'Expected':testExpected})\n",
    "submitDF.to_csv(\"submission01_c.csv\", sep=',', index=False)"
   ]
  }
 ],
 "metadata": {
  "kernelspec": {
   "display_name": "Python 3",
   "language": "python",
   "name": "python3"
  },
  "language_info": {
   "codemirror_mode": {
    "name": "ipython",
    "version": 3
   },
   "file_extension": ".py",
   "mimetype": "text/x-python",
   "name": "python",
   "nbconvert_exporter": "python",
   "pygments_lexer": "ipython3",
   "version": "3.6.2"
  }
 },
 "nbformat": 4,
 "nbformat_minor": 2
}
