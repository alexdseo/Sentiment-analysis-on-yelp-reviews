{
 "cells": [
  {
   "cell_type": "code",
   "execution_count": 1,
   "metadata": {
    "collapsed": true
   },
   "outputs": [],
   "source": [
    "import pandas as pd\n",
    "from sklearn import linear_model\n",
    "import numpy as np\n",
    "from sklearn.svm import SVC, LinearSVC\n",
    "train = pd.read_csv(\"train_Madison.csv\")\n",
    "#train = train[:20]\n",
    "test = pd.read_csv(\"test_Madison.csv\")\n",
    "names = train[\"name\"]\n",
    "stars = train[\"star\"]    "
   ]
  },
  {
   "cell_type": "code",
   "execution_count": 2,
   "metadata": {},
   "outputs": [
    {
     "name": "stdout",
     "output_type": "stream",
     "text": [
      "1150\n",
      "1150\n"
     ]
    }
   ],
   "source": [
    "ratingTotal = {}\n",
    "ratingCount = {}\n",
    "for i in range(0, len(names)):\n",
    "    name = names[i]\n",
    "    star = stars[i]\n",
    "    if name not in ratingTotal:\n",
    "        ratingTotal[name] = 0\n",
    "        ratingCount[name] = 0\n",
    "    ratingTotal[name] += star\n",
    "    ratingCount[name]+=1\n",
    "print(len(ratingTotal))\n",
    "print(len(ratingCount))\n",
    "ratingAverage = dict((k, float(ratingTotal[k])/ratingCount[k]) for k in ratingCount)\n",
    "#Turns the predictor from rating to difference above or below mean rating for the restaurant\n",
    "#for i in range(0, len(names)):\n",
    "#    name = names[i]\n",
    "#    diffScore = stars[i]-ratingAverage[name]\n",
    "#    print(diffScore)\n",
    "#    diffScores.append(diffScore)"
   ]
  },
  {
   "cell_type": "code",
   "execution_count": 3,
   "metadata": {},
   "outputs": [
    {
     "data": {
      "text/plain": [
       "41.05"
      ]
     },
     "execution_count": 3,
     "metadata": {},
     "output_type": "execute_result"
    }
   ],
   "source": [
    "positiveCount = []\n",
    "negativeCount = []\n",
    "positiveOverall = []\n",
    "ratingArray = []\n",
    "nwords = []\n",
    "posnshort = []\n",
    "negnlong = []\n",
    "nchars = []\n",
    "#avgChars = []\n",
    "#numReviews = []\n",
    "positiveWords = [\"gem\", \"highly\", \"incredible\", \"amazing\", \"die\", \"favorites\", \"wonderful\", \"perfect\", \"fantastic\", \"notch\", \"favorite\", \n",
    "                 \"awesome\", \"outstanding\", \"yum\", \"delicious\", \"excellent\", \"perfectly\", \"loved\", \"savory\", \"cozy\", \"unique\",\n",
    "                 \"yummy\", \"glad\", \"homemade\", \"best\", \"love\", \"lovely\", \"always\", \"friendly\", \"reasonable\", \"beautiful\", \n",
    "                 \"classic\", \"traditional\", \"great\", \"fresh\", \"definitely\", \"healthy\", \"decent\", \"generous\", \"comfortable\",\n",
    "                 \"authentic\", \"flavorful\", \"enjoyed\", \"pleased\", \"vibe\", \"super\", \"happy\", \"absolutely\", \"tasty\", \"enjoy\", \n",
    "                 \"truly\", \"fancy\", \"wow\", \"must\", \"nicely\", \"every\", \"quick\", \"must\", \"easily\", \"early\", \"craving\", \"well\"]\n",
    "negativeWords = [\"disappointing\", \"weird\", \"issue\", \"none\", \"problem\", \"dirty\", \"mediocre\", \"ok\", \"poor\", \"terrible\", \"awful\", \n",
    "                 \"rude\", \"horrible\", \"worst\", \"overpriced\", \"barely\", \"sorry\", \"waited\", \"soggy\", \"waiting\", \"bland\", \"forgot\",\n",
    "                 \"unfortunately\", \"sad\", \"bad\", \"loud\", \"overly\", \"greasy\", \"frozen\", \"dry\", \"empty\", \"never\"]\n",
    "for i in range(0, len(names)):\n",
    "    #print(i)\n",
    "    #print(len(names))\n",
    "    posC = 0\n",
    "    negC = 0\n",
    "    for word in positiveWords:\n",
    "        wordCount = train[word][i]\n",
    "        posC+=wordCount\n",
    "    for negWord in negativeWords:\n",
    "        negWordCount = train[negWord][i]\n",
    "        negC+=negWordCount\n",
    "    nword = np.array(train[\"nword\"])[i]\n",
    "    nchar = np.array(train[\"nchar\"])[i]\n",
    "    #avgChars.append(nchar/nword)\n",
    "    nwords.append(nword)\n",
    "    nchars.append(nchar)\n",
    "    posnshort.append(posC/nword)\n",
    "    negnlong.append(negC*nword)\n",
    "    positiveCount.append(posC)\n",
    "    negativeCount.append(negC)\n",
    "    if posC>negC:\n",
    "        positiveOverall.append(1)\n",
    "    elif posC<negC:\n",
    "        positiveOverall.append(-1)\n",
    "    else:\n",
    "        positiveOverall.append(0)\n",
    "    ratingArray.append(ratingAverage[names[i]])\n",
    "    #numReviews.append(ratingCount[names[i]])\n",
    "#predictors = np.array([positiveCount, negativeCount, ratingArray])\n",
    "\n",
    "#predictors = np.array([nwords, positiveOverall, ratingArray, positiveCount, negativeCount, posRatio])\n",
    "#posRatio = np.array(posRatio)\n",
    "#print(posRatio)\n",
    "predictors = np.array([nwords, positiveOverall, ratingArray, positiveCount, negativeCount, posnshort, negnlong, nchars])\n",
    "predictors = predictors.T\n",
    "linear_svc = LinearSVC()\n",
    "linear_svc.fit(predictors, train[\"star\"])\n",
    "acc_linear_svc= round(linear_svc.score(predictors, train[\"star\"])*100,2)\n",
    "acc_linear_svc\n",
    "\n",
    "# smallRatingAverage = dict((k, float(ratingTotal[k])/ratingCount[k]) for k in ratingCount if ratingCount[k]<3)\n",
    "# smallTotal = 0\n",
    "# for k in smallRatingAverage:\n",
    "#     smallTotal+=float(smallRatingAverage[k])\n",
    "# print(\"Small Total: \", len(smallRatingAverage))\n",
    "# print(\"Small Average: \", smallTotal/len(smallRatingAverage))\n",
    "\n",
    "# largeRatingAverage = dict((k, float(ratingTotal[k])/ratingCount[k]) for k in ratingCount if ratingCount[k]>=50)\n",
    "# largeTotal = 0\n",
    "# for k in largeRatingAverage:\n",
    "#     largeTotal+=float(largeRatingAverage[k])\n",
    "# print(\"Large Total: \", len(largeRatingAverage))    \n",
    "# print(\"Large Average: \", largeTotal/len(largeRatingAverage))\n"
   ]
  },
  {
   "cell_type": "code",
   "execution_count": 4,
   "metadata": {
    "collapsed": true
   },
   "outputs": [],
   "source": [
    "testNames = test[\"name\"]\n",
    "testIDs = test[\"Id\"]\n",
    "testExpected = []\n",
    "for i in range (0, len(testNames)):\n",
    "    name = testNames[i]\n",
    "    posC = 0\n",
    "    negC = 0\n",
    "    posOverall = 0\n",
    "    if name in ratingAverage:\n",
    "        rating = ratingAverage[name]\n",
    "    else:\n",
    "        rating = 3.758\n",
    "        \n",
    "    for word in positiveWords:\n",
    "        wordCount = test[word][i]\n",
    "        posC+=wordCount\n",
    "    for word in negativeWords:\n",
    "        wordCount = test[word][i]\n",
    "        negC+=wordCount \n",
    "    if posC > negC:\n",
    "        posOverall = 1\n",
    "    elif posC < negC:\n",
    "        posOverall = -1\n",
    "    else:\n",
    "        posOverall = 0\n",
    "    \n",
    "    nword = np.array(test[\"nword\"])[i]\n",
    "    nchar = np.array(test[\"nchar\"])[i]\n",
    "    #avgChar = nchar/nword\n",
    "    #numReviews = ratingCount[name]\n",
    "    posnshort = posC/nword\n",
    "    negnlong = negC*nword\n",
    "    #predictors = np.array([[posC, negC, rating]])\n",
    "    predictors = np.array([[nword, posOverall, rating, posC, negC, posnshort, negnlong, nchar]])\n",
    "    prediction = linear_svc.predict(predictors)\n",
    "    #prediction = prediction+rating\n",
    "    testExpected.append(prediction[0])\n",
    "    #print(prediction)\n",
    "submitDF = pd.DataFrame({'Id':testIDs, 'Expected':testExpected})\n",
    "submitDF.to_csv(\"submission05.csv\", sep=',', index=False)"
   ]
  }
 ],
 "metadata": {
  "kernelspec": {
   "display_name": "Python 3",
   "language": "python",
   "name": "python3"
  },
  "language_info": {
   "codemirror_mode": {
    "name": "ipython",
    "version": 3
   },
   "file_extension": ".py",
   "mimetype": "text/x-python",
   "name": "python",
   "nbconvert_exporter": "python",
   "pygments_lexer": "ipython3",
   "version": "3.6.2"
  }
 },
 "nbformat": 4,
 "nbformat_minor": 2
}
