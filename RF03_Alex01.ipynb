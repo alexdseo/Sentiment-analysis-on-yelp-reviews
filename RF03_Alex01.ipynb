{
 "cells": [
  {
   "cell_type": "code",
   "execution_count": 8,
   "metadata": {
    "collapsed": true
   },
   "outputs": [],
   "source": [
    "import pandas as pd\n",
    "from sklearn import linear_model\n",
    "import numpy as np\n",
    "from sklearn.ensemble import RandomForestClassifier\n",
    "from sklearn.model_selection import train_test_split\n",
    "from sklearn.model_selection import cross_val_score\n",
    "from sklearn.model_selection import KFold\n",
    "from sklearn.model_selection import LeaveOneOut\n",
    "import matplotlib as mpl\n",
    "import matplotlib.pyplot as plt\n",
    "from sklearn.svm import SVC, LinearSVC\n",
    "from sklearn.neighbors import KNeighborsClassifier\n",
    "from sklearn.naive_bayes import GaussianNB\n",
    "from sklearn.neural_network import MLPClassifier\n",
    "import seaborn as sns"
   ]
  },
  {
   "cell_type": "code",
   "execution_count": 42,
   "metadata": {},
   "outputs": [
    {
     "data": {
      "text/plain": [
       "count    51313.000000\n",
       "mean     53685.321653\n",
       "std         51.222217\n",
       "min      53508.000000\n",
       "25%      53703.000000\n",
       "50%      53703.000000\n",
       "75%      53711.000000\n",
       "max      53925.000000\n",
       "Name: postal_code, dtype: float64"
      ]
     },
     "execution_count": 42,
     "metadata": {},
     "output_type": "execute_result"
    }
   ],
   "source": [
    "train = pd.read_csv(\"train_Madison.csv\")\n",
    "#train = train[:20]\n",
    "test = pd.read_csv(\"test_Madison.csv\")\n",
    "#names = train[\"name\"]\n",
    "train_star = train[\"star\"]\n",
    "train_ID = train['Id']\n",
    "test_ID = test['Id']\n",
    "train_name = train['name']\n",
    "test_name = test['name']\n",
    "train_city = train['city']\n",
    "test_city = test['city']\n",
    "train_post = train['postal_code']\n",
    "test_post = test['postal_code']\n",
    "train_text = train['text']\n",
    "test_text = test['text']\n",
    "\n",
    "train.drop('Id', axis=1, inplace=True)\n",
    "test.drop('Id', axis=1, inplace=True)\n",
    "train.drop('name', axis=1, inplace=True)\n",
    "test.drop('name', axis=1, inplace=True)\n",
    "train.drop('city', axis=1, inplace=True)\n",
    "test.drop('city', axis=1, inplace=True)\n",
    "train.drop('postal_code', axis=1, inplace=True)\n",
    "test.drop('postal_code', axis=1, inplace=True)\n",
    "train.drop('text', axis=1, inplace=True)\n",
    "test.drop('text', axis=1, inplace=True)\n",
    "\n",
    "\n",
    "#train.info(verbose=True)\n",
    "y_train = train_star\n",
    "#train.head(5)\n",
    "#test.describe(include = 'all')\n",
    "city_dummies = pd.get_dummies(train_city)\n",
    "city_dummies_T = pd.get_dummies(test_city)\n",
    "#city_dummies.head(5)"
   ]
  },
  {
   "cell_type": "code",
   "execution_count": 25,
   "metadata": {
    "collapsed": true
   },
   "outputs": [],
   "source": [
    "positiveCount = []\n",
    "negativeCount = []\n",
    "positiveOverall = []\n",
    "#ratingArray = []\n",
    "nwords = []\n",
    "posnshort = []\n",
    "negnlong = []\n",
    "nchars = []\n",
    "negativeplus = []\n",
    "posword= []\n",
    "negword= []\n",
    "#avgChars = []\n",
    "posnegratio= []\n",
    "#numReviews = []\n",
    "positiveWords = [\"knowledgeable\", \"gem\", \"highly\", \"incredible\", \"amazing\", \"die\", \"favorites\", \"wonderful\", \"perfect\", \"fantastic\", \"notch\",\n",
    "                 \"favorite\", \"awesome\", \"outstanding\", \"yum\", \"delicious\", \"excellent\", \"perfectly\", \"loved\", \"helpful\", \"best\", \n",
    "                 \"savory\", \"cozy\", \"unique\", \"yummy\", \"glad\", \"homemade\", \"best\", \"love\", \"lovely\", \"always\", \"friendly\", \n",
    "                 \"reasonable\", \"beautiful\", \"recommended\", \"fashioned\", \"classic\", \"traditional\", \"great\", \"fresh\", \"definitely\",\n",
    "                 \"healthy\", \"decent\", \"generous\", \"comfortable\", \"rich\", \"recommend\", \"local\", \"authentic\", \"flavorful\", \"highly\",\n",
    "                 \"enjoyed\", \"pleased\", \"flavors\", \"super\", \"happy\", \"absolutely\", \"tasty\", \"enjoy\", \"fun\", \"reasonably\", \"plenty\",\n",
    "                 \"attentive\", \"truly\", \"fancy\", \"wow\", \"must\", \"nicely\", \"every\", \"quick\", \"easily\", \"early\", \"craving\", \"well\"]\n",
    "negativeWords = [\"disappointing\", \"weird\", \"issue\", \"none\", \"last\", \"problem\", \"dirty\", \"mediocre\", \"ok\", \"poor\", \"terrible\",\n",
    "                 \"awful\", \"rude\", \"horrible\", \"worst\", \"overpriced\", \"needed\", \"barely\", \"sorry\", \"waited\", \"soggy\", \"waiting\",\n",
    "                 \"bland\", \"forgot\", \"hope\",\"unfortunately\", \"sad\", \"away\", \"bad\", \"loud\", \"overly\", \"greasy\", \"frozen\", \"dry\",\n",
    "                 \"empty\", \"never\", \"less\", \"hard\", \"expensive\", \"tiny\", \"however\", \"wrong\", \"longer\", \"nothing\", \"average\", \n",
    "                 \"cold\", \"slow\", \"lack\", \"avoid\", \"forget\", \"left\", \"worst\", \"paid\", \"money\", \"minutes\", \"phone\",\"asking\",\n",
    "                 \"manager\", \"paying\", \"finally\", \"called\", \"charge\", \"customer\", \"clearly\", \"bill\", \"asked\",\"told\"]\n",
    "for i in range(0, len(y_train)):\n",
    "    #print(i)\n",
    "    #print(len(names))\n",
    "    posC = 0\n",
    "    negC = 0\n",
    "    for word in positiveWords:\n",
    "        wordCount = train[word][i]\n",
    "        posC+=wordCount\n",
    "    for negWord in negativeWords:\n",
    "        negWordCount = train[negWord][i]\n",
    "        negC+=negWordCount\n",
    "    nword = np.array(train[\"nword\"])[i]\n",
    "    nchar = np.array(train[\"nchar\"])[i]\n",
    "    #avgChars.append(nchar/nword)\n",
    "    nwords.append(nword)\n",
    "    positiveCount.append(posC)\n",
    "    negativeCount.append(negC)\n",
    "    if negC>3:\n",
    "        negativeplus.append(-1)\n",
    "    else:\n",
    "        negativeplus.append(0)\n",
    "    posnegratio.append((posC)/(negC + 1))\n",
    "    nchars.append((nchar-604.022230)/532.547462)\n",
    "    posword.append(posC/nword)\n",
    "    negword.append(negC*nword)\n",
    "    if nword<110:\n",
    "        posnshort.append(posC * 1.5)\n",
    "        negnlong.append(negC)\n",
    "    else:\n",
    "        posnshort.append(posC)\n",
    "        negnlong.append(negC * 1.5)\n",
    "    if posC>negC:\n",
    "        positiveOverall.append(1)\n",
    "    elif posC<negC:\n",
    "        positiveOverall.append(-1.5)\n",
    "    else:\n",
    "        positiveOverall.append(0)\n",
    "    #ratingArray.append(ratingAverage[names[i]])\n",
    "    #numReviews.append(ratingCount[names[i]])\n",
    "#predictors = np.array([positiveCount, negativeCount, ratingArray])\n",
    "#predictors = np.array([nwords, positiveOverall, ratingArray, positiveCount, negativeCount, posRatio])\n",
    "#posRatio = np.array(posRatio)\n",
    "#print(posRatio)"
   ]
  },
  {
   "cell_type": "code",
   "execution_count": 35,
   "metadata": {},
   "outputs": [
    {
     "data": {
      "text/plain": [
       "(51326, 9)"
      ]
     },
     "execution_count": 35,
     "metadata": {},
     "output_type": "execute_result"
    }
   ],
   "source": [
    "predictors = np.array([posnegratio, posword, negword, nwords, positiveOverall, posnshort, negnlong, nchars, negativeplus])\n",
    "predictors = predictors.T\n",
    "predictors.shape\n",
    "#x_train = pd.DataFrame(predictors)\n",
    "#x_train.columns = ['Overall','PosShort','NegLong','nChars', 'negative+']\n",
    "#x_train.head(5)"
   ]
  },
  {
   "cell_type": "code",
   "execution_count": null,
   "metadata": {
    "collapsed": true
   },
   "outputs": [],
   "source": [
    "x_train = pd.DataFrame(predictors)\n",
    "x_train.columns = ['Ratio', 'PosShort2','NegLong2','nWords','Overall','PosShort','NegLong','nChars', 'negative+']\n",
    "#x_train.head(5)\n",
    "n_folds = 5\n",
    "\n",
    "def rmse_cv(model):\n",
    "    kf = KFold(n_folds, shuffle=True, random_state=96).get_n_splits(train.values)\n",
    "    rmse = np.sqrt(-cross_val_score(model, train.values, y_train, scoring=\"neg_mean_squared_error\", cv = kf))\n",
    "    return (rmse)\n",
    "\n",
    "random_forest = RandomForestClassifier()\n",
    "model_rf = random_forest.fit(x_train, y_train)\n",
    "reg = linear_model.LinearRegression()\n",
    "model_reg = reg.fit(x_train, y_train)\n",
    "knn = KNeighborsClassifier(n_neighbors = 5)\n",
    "model_knn = knn.fit(x_train, y_train)\n",
    "linear_svc = LinearSVC()\n",
    "model_svc = linear_svc.fit(x_train, y_train)\n",
    "gaussian = GaussianNB()\n",
    "model_gau = gaussian.fit(x_train, y_train)\n"
   ]
  },
  {
   "cell_type": "code",
   "execution_count": null,
   "metadata": {
    "collapsed": true
   },
   "outputs": [],
   "source": [
    "\n",
    "#score1 = rmse_cv(model_rf)\n",
    "#print(\"RandomForest score: {:.4f} ({:.4f})\\n\".format(score1.mean(), score1.std()))\n",
    "#score2 = rmse_cv(model_reg)\n",
    "#print(\"MLR score: {:.4f} ({:.4f})\\n\".format(score2.mean(), score2.std()))\n",
    "#score3 = rmse_cv(model_knn)\n",
    "#print(\"knn score: {:.4f} ({:.4f})\\n\".format(score3.mean(), score3.std()))\n",
    "#score4 = rmse_cv(model_svc)\n",
    "#print(\"SVM score: {:.4f} ({:.4f})\\n\".format(score4.mean(), score4.std()))\n",
    "#score5 = rmse_cv(model_rf)\n",
    "#print(\"NB score: {:.4f} ({:.4f})\\n\".format(score5.mean(), score5.std()))\n"
   ]
  },
  {
   "cell_type": "code",
   "execution_count": 43,
   "metadata": {},
   "outputs": [
    {
     "name": "stdout",
     "output_type": "stream",
     "text": [
      "75.44\n",
      "40.02\n",
      "56.94\n",
      "42.95\n",
      "44.76\n"
     ]
    }
   ],
   "source": [
    "acc_RF= round(random_forest.score(x_train, y_train)*100,2)\n",
    "print(acc_RF)\n",
    "acc_MLR= round(reg.score(x_train, y_train)*100,2)\n",
    "print(acc_MLR)\n",
    "acc_knn= round(knn.score(x_train, y_train)*100,2)\n",
    "print(acc_knn)\n",
    "acc_NB= round(gaussian.score(x_train, y_train)*100,2)\n",
    "print(acc_NB)\n",
    "acc_linear_svc= round(linear_svc.score(x_train, y_train)*100,2)\n",
    "print(acc_linear_svc)"
   ]
  },
  {
   "cell_type": "code",
   "execution_count": 46,
   "metadata": {
    "collapsed": true
   },
   "outputs": [],
   "source": [
    "#testNames = test[\"name\"]\n",
    "#testIDs = test[\"Id\"]\n",
    "testExpected = []\n",
    "for i in range (0, len(test_ID)):\n",
    "    #name = testNames[i]\n",
    "    posC = 0\n",
    "    negC = 0\n",
    "    posOverall = 0\n",
    "    for word in positiveWords:\n",
    "        wordCount = test[word][i]\n",
    "        posC+=wordCount\n",
    "    for word in negativeWords:\n",
    "        wordCount = test[word][i]\n",
    "        negC+=wordCount \n",
    "    if posC > negC:\n",
    "        posOverall = 1\n",
    "    elif posC < negC:\n",
    "        posOverall = -1.5\n",
    "    else:\n",
    "        posOverall = 0\n",
    "    nword = np.array(test[\"nword\"])[i]\n",
    "    nchar = np.array(test[\"nchar\"])[i]\n",
    "    avgChar = nchar/nword\n",
    "    if negC>3:\n",
    "        negativep = -1\n",
    "    else:\n",
    "        negativep = 0\n",
    "    #numReviews = ratingCount[name]\n",
    "    standnchars = (nchar-599.985124)/(534.629585)\n",
    "    if nword<110:\n",
    "        pns = posC * 1.5\n",
    "        nnl = negC\n",
    "    else:\n",
    "        pns = posC\n",
    "        nnl = negC * 1.5\n",
    "    #posnegratio = ((posC)/(negC + 1))\n",
    "    #predictors = np.array([[posC, negC, rating]])\n",
    "    predictors = np.array([[posOverall, pns, nnl, standnchars, negativep]])\n",
    "    prediction = random_forest.predict(predictors)\n",
    "    #prediction = prediction+rating\n",
    "    testExpected.append(prediction[0])\n",
    "    #print(prediction)\n",
    "submitDF = pd.DataFrame({'Id':test_ID, 'Expected':testExpected})\n",
    "submitDF.to_csv(\"submission04.csv\", sep=',', index=False)"
   ]
  }
 ],
 "metadata": {
  "kernelspec": {
   "display_name": "Python 3",
   "language": "python",
   "name": "python3"
  },
  "language_info": {
   "codemirror_mode": {
    "name": "ipython",
    "version": 3
   },
   "file_extension": ".py",
   "mimetype": "text/x-python",
   "name": "python",
   "nbconvert_exporter": "python",
   "pygments_lexer": "ipython3",
   "version": "3.6.2"
  }
 },
 "nbformat": 4,
 "nbformat_minor": 2
}
